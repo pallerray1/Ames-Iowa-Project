{
 "cells": [
  {
   "cell_type": "markdown",
   "metadata": {},
   "source": [
    "# Code for iteration 2, addressing categorical data"
   ]
  },
  {
   "cell_type": "code",
   "execution_count": 1,
   "metadata": {},
   "outputs": [
    {
     "name": "stderr",
     "output_type": "stream",
     "text": [
      "//anaconda3/lib/python3.7/site-packages/statsmodels/compat/pandas.py:23: FutureWarning: The Panel class is removed from pandas. Accessing it from the top-level namespace will also be removed in the next version\n",
      "  data_klasses = (pandas.Series, pandas.DataFrame, pandas.Panel)\n"
     ]
    }
   ],
   "source": [
    "# do the imports\n",
    "\n",
    "import numpy as np\n",
    "import pandas as pd\n",
    "import matplotlib.pyplot as plt\n",
    "import seaborn as sns\n",
    "from sklearn.linear_model import LinearRegression\n",
    "from sklearn import metrics\n",
    "from sklearn.model_selection import train_test_split, cross_val_score\n",
    "import statsmodels.api as sm \n",
    "from sklearn.metrics import mean_squared_error\n",
    "\n",
    "pd.options.display.max_rows = 5000"
   ]
  },
  {
   "cell_type": "code",
   "execution_count": 2,
   "metadata": {},
   "outputs": [],
   "source": [
    "# get the original data post data cleaning in data clean jupyter notebook and add changes from iter 1\n",
    "df_clean = pd.read_csv('../datasets/cleaned_up_data.csv')\n"
   ]
  },
  {
   "cell_type": "code",
   "execution_count": 3,
   "metadata": {},
   "outputs": [],
   "source": [
    "# get the iteration 1 chosen features df\n",
    "df_iter_1 = pd.read_csv('../datasets/iter_1_df.csv')\n",
    "df_iter_1 = df_iter_1.drop('Unnamed: 0', axis= 1)"
   ]
  },
  {
   "cell_type": "code",
   "execution_count": 4,
   "metadata": {},
   "outputs": [],
   "source": [
    "# dummy up the selected categorical features off the original clean up data\n",
    "df_neighborhood_dummies = pd.get_dummies(df_clean['Neighborhood'], drop_first= True)\n",
    "\n",
    "df_bldg_type_dummies = pd.get_dummies(df_clean['Bldg_Type'], drop_first= True)\n",
    "\n",
    "df_house_style_dummies = pd.get_dummies(df_clean['House_Style'], drop_first= True)\n",
    "\n",
    "def month_to_season_conversion(month):\n",
    "    if month <= 3:\n",
    "        return 'spring'\n",
    "    elif month <= 6:\n",
    "        return 'summer'\n",
    "    elif month <= 9:\n",
    "        return 'fall'\n",
    "    elif month <= 12:\n",
    "        return 'winter'\n",
    "    else:\n",
    "        print('Houston, we have a problem!')\n",
    "df_clean['season'] = df_clean['Mo_Sold'].apply(month_to_season_conversion)\n",
    "df_season_dummies = pd.get_dummies(df_clean['season'], drop_first= True)\n",
    "\n",
    "df_sale_type_dummies = pd.get_dummies(df_clean['Sale_Type'], drop_first= True)\n"
   ]
  },
  {
   "cell_type": "code",
   "execution_count": 5,
   "metadata": {},
   "outputs": [],
   "source": [
    "df_clean = pd.concat([df_clean, df_neighborhood_dummies, df_bldg_type_dummies, df_house_style_dummies, \\\n",
    "               df_season_dummies, df_sale_type_dummies], axis= 1)"
   ]
  },
  {
   "cell_type": "code",
   "execution_count": 6,
   "metadata": {
    "scrolled": false
   },
   "outputs": [
    {
     "data": {
      "text/plain": [
       "Unnamed: 0                0.027433\n",
       "Id                       -0.053056\n",
       "PID                      -0.253634\n",
       "MS_SubClass              -0.089106\n",
       "Lot_Frontage              0.186822\n",
       "Lot_Area                  0.305112\n",
       "Overall_Qual              0.802675\n",
       "Overall_Cond             -0.101462\n",
       "Year_Built                0.571737\n",
       "Year_Remod/Add            0.550175\n",
       "Mas_Vnr_Area              0.511303\n",
       "BsmtFin_SF_1              0.445234\n",
       "BsmtFin_SF_2              0.015830\n",
       "Bsmt_Unf_SF               0.190318\n",
       "Total_Bsmt_SF             0.664222\n",
       "1st_Flr_SF                0.647931\n",
       "2nd_Flr_SF                0.247839\n",
       "Low_Qual_Fin_SF          -0.041925\n",
       "Gr_Liv_Area               0.718762\n",
       "Bsmt_Full_Bath            0.283454\n",
       "Bsmt_Half_Bath           -0.046159\n",
       "Full_Bath                 0.537521\n",
       "Half_Bath                 0.282535\n",
       "Bedroom_AbvGr             0.135393\n",
       "Kitchen_AbvGr            -0.126179\n",
       "TotRms_AbvGrd             0.508719\n",
       "Fireplaces                0.474690\n",
       "Garage_Yr_Blt             0.259601\n",
       "Garage_Cars               0.650303\n",
       "Garage_Area               0.658440\n",
       "Wood_Deck_SF              0.326920\n",
       "Open_Porch_SF             0.337887\n",
       "Enclosed_Porch           -0.136809\n",
       "3Ssn_Porch                0.048615\n",
       "Screen_Porch              0.134259\n",
       "Pool_Area                 0.025738\n",
       "Misc_Val                 -0.010553\n",
       "Mo_Sold                   0.030914\n",
       "Yr_Sold                  -0.013273\n",
       "SalePrice                 1.000000\n",
       "Lot_Frontage_missing      0.035756\n",
       "Mas_Vnr_Type_missing      0.070185\n",
       "Mas_Vnr_Area_missing      0.070185\n",
       "Bsmt_Qual_missing        -0.153032\n",
       "Bsmt_Cond_missing        -0.153032\n",
       "Bsmt_Exposure_missing    -0.146017\n",
       "BsmtFin_Type_1_missing   -0.153032\n",
       "BsmtFin_SF_1_missing     -0.028674\n",
       "BsmtFin_Type_2_missing   -0.147765\n",
       "BsmtFin_SF_2_missing     -0.028674\n",
       "Bsmt_Unf_SF_missing      -0.028674\n",
       "Total_Bsmt_SF_missing    -0.028674\n",
       "Bsmt_Full_Bath_missing    0.000082\n",
       "Bsmt_Half_Bath_missing    0.000082\n",
       "Garage_Type_missing      -0.232051\n",
       "Garage_Yr_Blt_missing    -0.231918\n",
       "Garage_Finish_missing    -0.231918\n",
       "Garage_Cars_missing      -0.008586\n",
       "Garage_Area_missing      -0.008586\n",
       "Garage_Qual_missing      -0.231918\n",
       "Garage_Cond_missing      -0.231918\n",
       "Blueste                  -0.025402\n",
       "BrDale                   -0.095732\n",
       "BrkSide                  -0.135527\n",
       "ClearCr                   0.052367\n",
       "CollgCr                   0.081818\n",
       "Crawfor                   0.058101\n",
       "Edwards                  -0.177812\n",
       "Gilbert                   0.023490\n",
       "Greens                    0.003400\n",
       "GrnHill                   0.038866\n",
       "IDOTRR                   -0.185616\n",
       "Landmrk                  -0.012471\n",
       "MeadowV                  -0.112048\n",
       "Mitchel                  -0.036104\n",
       "NAmes                    -0.190772\n",
       "NPkVill                  -0.047603\n",
       "NWAmes                    0.034543\n",
       "NoRidge                   0.263649\n",
       "NridgHt                   0.449123\n",
       "OldTown                  -0.206229\n",
       "SWISU                    -0.074658\n",
       "Sawyer                   -0.134524\n",
       "SawyerW                   0.016283\n",
       "Somerst                   0.149851\n",
       "StoneBr                   0.257254\n",
       "Timber                    0.116322\n",
       "Veenker                   0.083171\n",
       "2fmCon                   -0.112007\n",
       "Duplex                   -0.104354\n",
       "Twnhs                    -0.114564\n",
       "TwnhsE                    0.061539\n",
       "1.5Unf                   -0.067123\n",
       "1Story                   -0.019856\n",
       "2.5Fin                    0.042492\n",
       "2.5Unf                    0.010635\n",
       "2Story                    0.201424\n",
       "SFoyer                   -0.064580\n",
       "SLvl                     -0.042676\n",
       "spring                   -0.005605\n",
       "summer                   -0.044124\n",
       "winter                    0.001025\n",
       "CWD                       0.004419\n",
       "Con                       0.033638\n",
       "ConLD                    -0.060768\n",
       "ConLI                     0.019503\n",
       "ConLw                    -0.035667\n",
       "New                       0.360810\n",
       "Oth                      -0.030274\n",
       "WD                       -0.213217\n",
       "Name: SalePrice, dtype: float64"
      ]
     },
     "execution_count": 6,
     "metadata": {},
     "output_type": "execute_result"
    }
   ],
   "source": [
    "df_clean.corr()['SalePrice']"
   ]
  },
  {
   "cell_type": "code",
   "execution_count": 7,
   "metadata": {},
   "outputs": [],
   "source": [
    "iter_1_features = ['PID', 'MS_SubClass','Lot_Frontage','Lot_Area','Overall_Qual','Overall_Cond','Year_Built', \n",
    "            'Year_Remod/Add','Mas_Vnr_Area','BsmtFin_SF_1','Total_Bsmt_SF','1st_Flr_SF','2nd_Flr_SF', 'Gr_Liv_Area',\n",
    "            'Bsmt_Full_Bath','Full_Bath', 'Half_Bath','Bedroom_AbvGr','TotRms_AbvGrd', 'Fireplaces','Garage_Yr_Blt',\n",
    "            'Garage_Cars', 'Garage_Area', 'Wood_Deck_SF', 'Open_Porch_SF','Enclosed_Porch','Bsmt_Qual_missing',\n",
    "            'Garage_Type_missing']"
   ]
  },
  {
   "cell_type": "code",
   "execution_count": 8,
   "metadata": {},
   "outputs": [],
   "source": [
    "additional_features_iter_2 = [ 'BrDale', 'BrkSide', 'Edwards', \n",
    "                   'IDOTRR', 'MeadowV', 'NAmes', 'NoRidge', 'NridgHt','OldTown', 'Sawyer', 'Somerst',\n",
    "                   'StoneBr', 'Timber', 'Veenker', '2fmCon', 'Duplex', 'Twnhs', 'TwnhsE', '1.5Unf','2Story',\n",
    "                   'ConLD','summer','New','WD ']                       \n",
    "\n"
   ]
  },
  {
   "cell_type": "code",
   "execution_count": 9,
   "metadata": {},
   "outputs": [],
   "source": [
    "iter_2_features = iter_1_features + additional_features_iter_2\n",
    "df = df_clean[iter_2_features]"
   ]
  },
  {
   "cell_type": "code",
   "execution_count": 10,
   "metadata": {},
   "outputs": [],
   "source": [
    "X = df\n",
    "y = df_clean['SalePrice']\n"
   ]
  },
  {
   "cell_type": "code",
   "execution_count": 11,
   "metadata": {},
   "outputs": [],
   "source": [
    "X_train, X_test, y_train, y_test = train_test_split(X, y, random_state= 42)\n",
    "\n"
   ]
  },
  {
   "cell_type": "code",
   "execution_count": 12,
   "metadata": {},
   "outputs": [
    {
     "data": {
      "text/plain": [
       "LinearRegression(copy_X=True, fit_intercept=True, n_jobs=None, normalize=False)"
      ]
     },
     "execution_count": 12,
     "metadata": {},
     "output_type": "execute_result"
    }
   ],
   "source": [
    "lr = LinearRegression()\n",
    "lr.fit(X_train, y_train)"
   ]
  },
  {
   "cell_type": "code",
   "execution_count": 13,
   "metadata": {},
   "outputs": [
    {
     "data": {
      "text/plain": [
       "0.903529635812563"
      ]
     },
     "execution_count": 13,
     "metadata": {},
     "output_type": "execute_result"
    }
   ],
   "source": [
    "lr.score(X_train, y_train)"
   ]
  },
  {
   "cell_type": "code",
   "execution_count": 14,
   "metadata": {},
   "outputs": [
    {
     "data": {
      "text/plain": [
       "24518.83497595041"
      ]
     },
     "execution_count": 14,
     "metadata": {},
     "output_type": "execute_result"
    }
   ],
   "source": [
    "y_train_hat = lr.predict(X_train)\n",
    "\n",
    "RMSE = np.sqrt(mean_squared_error(y_train, y_train_hat))\n",
    "RMSE"
   ]
  },
  {
   "cell_type": "code",
   "execution_count": 15,
   "metadata": {},
   "outputs": [
    {
     "data": {
      "text/plain": [
       "0.8841292403236309"
      ]
     },
     "execution_count": 15,
     "metadata": {},
     "output_type": "execute_result"
    }
   ],
   "source": [
    "lr.score(X_test, y_test)"
   ]
  },
  {
   "cell_type": "code",
   "execution_count": 16,
   "metadata": {},
   "outputs": [
    {
     "data": {
      "text/plain": [
       "0.8857363487412899"
      ]
     },
     "execution_count": 16,
     "metadata": {},
     "output_type": "execute_result"
    }
   ],
   "source": [
    "cross_val_score(lr, X_train, y_train, cv=5).mean()"
   ]
  },
  {
   "cell_type": "code",
   "execution_count": 17,
   "metadata": {},
   "outputs": [
    {
     "data": {
      "text/plain": [
       "(879, 80)"
      ]
     },
     "execution_count": 17,
     "metadata": {},
     "output_type": "execute_result"
    }
   ],
   "source": [
    "# submit to kaggle \n",
    "df_kaggle = pd.read_csv('../datasets/test.csv')\n",
    "df_kaggle.columns\n",
    "df_kaggle.shape"
   ]
  },
  {
   "cell_type": "code",
   "execution_count": 18,
   "metadata": {},
   "outputs": [],
   "source": [
    "def data_clean_kaggle(df):\n",
    "    # changes due to initial data cleaning\n",
    "    temp = []\n",
    "    for col_name in df.columns:\n",
    "        temp.append(col_name.replace(' ', '_'))\n",
    "    df.columns = temp\n",
    "\n",
    "    # changes due to iteration 1\n",
    "    df['Lot_Frontage_missing'] = df['Lot_Frontage'].isnull().apply(lambda x: 1 if x == True else 0)\n",
    "    df['Lot_Frontage'].fillna(0, inplace= True)\n",
    "    \n",
    "    df['Mas_Vnr_Area_missing'] = df['Mas_Vnr_Area'].isnull().apply(lambda x: 1 if x == True else 0)\n",
    "    df['Mas_Vnr_Area'].fillna(0, inplace= True)\n",
    "                                                       \n",
    "    df['BsmtFin_SF_1_missing'] = df['BsmtFin_SF_1'].isnull().apply(lambda x: 1 if x == True else 0)\n",
    "    df['BsmtFin_SF_1'].fillna(0, inplace= True)\n",
    "                                                        \n",
    "    df['Total_Bsmt_SF_missing'] = df['Total_Bsmt_SF'].isnull().apply(lambda x: 1 if x == True else 0)\n",
    "    df['Total_Bsmt_SF'].fillna(0, inplace= True)\n",
    "                              \n",
    "    df['Bsmt_Full_Bath_missing'] = df['Bsmt_Full_Bath'].isnull().apply(lambda x: 1 if x == True else 0)\n",
    "    df['Bsmt_Full_Bath'].fillna(0, inplace= True)\n",
    "                              \n",
    "    df['Garage_Yr_Blt_missing'] = df['Garage_Yr_Blt'].isnull().apply(lambda x: 1 if x == True else 0)\n",
    "    df['Garage_Yr_Blt'].fillna(0, inplace= True) \n",
    "                              \n",
    "    df['Garage_Cars_missing'] = df['Garage_Cars'].isnull().apply(lambda x: 1 if x == True else 0)\n",
    "    df['Garage_Cars'].fillna(0, inplace= True) \n",
    "                              \n",
    "    df['Garage_Area_missing'] = df['Garage_Area'].isnull().apply(lambda x: 1 if x == True else 0)\n",
    "    df['Garage_Area'].fillna(0, inplace= True)\n",
    "                              \n",
    "                            \n",
    "    df['Bsmt_Qual_missing'] = df['Bsmt_Qual'].isnull().apply(lambda x: 1 if x == True else 0)\n",
    "    df['Bsmt_Qual'].fillna('NA', inplace= True)\n",
    "    \n",
    "    df['Garage_Type_missing'] = df['Garage_Type'].isnull().apply(lambda x: 1 if x == True else 0)\n",
    "    df['Garage_Type'].fillna('NA', inplace= True) \n",
    "    \n",
    "    # changes due to iteration 2\n",
    "    df_neighborhood_dummies = pd.get_dummies(df['Neighborhood'], drop_first= True)\n",
    "    df_bldg_type_dummies = pd.get_dummies(df['Bldg_Type'], drop_first= True)\n",
    "    df_house_style_dummies = pd.get_dummies(df['House_Style'], drop_first= True)\n",
    "    def month_to_season_conversion(month):\n",
    "        if month <= 3:\n",
    "            return 'spring'\n",
    "        elif month <= 6:\n",
    "            return 'summer'\n",
    "        elif month <= 9:\n",
    "            return 'fall'\n",
    "        elif month <= 12:\n",
    "            return 'winter'\n",
    "        else:\n",
    "            print('Houston, we have a problem!')\n",
    "    df['season'] = df['Mo_Sold'].apply(month_to_season_conversion)\n",
    "    df_season_dummies = pd.get_dummies(df['season'], drop_first= True)\n",
    "    df_sale_type_dummies = pd.get_dummies(df['Sale_Type'], drop_first= True)\n",
    "    df['Bsmt_Cond_missing'] = df['Bsmt_Cond'].isnull().apply(lambda x: 1 if x == True else 0)\n",
    "    df['Bsmt_Cond'].fillna('NA', inplace= True)\n",
    "\n",
    "    df = pd.concat([df, df_neighborhood_dummies, df_bldg_type_dummies, df_house_style_dummies, \\\n",
    "               df_season_dummies, df_sale_type_dummies], axis= 1)\n",
    "    \n",
    "    \n",
    "    return df"
   ]
  },
  {
   "cell_type": "code",
   "execution_count": 19,
   "metadata": {},
   "outputs": [],
   "source": [
    "df_kaggle = data_clean_kaggle(df_kaggle)\n",
    "\n",
    "X_kaggle = df_kaggle[iter_2_features]\n",
    "\n",
    "y_kaggle_hat = lr.predict(X_kaggle)"
   ]
  },
  {
   "cell_type": "code",
   "execution_count": 20,
   "metadata": {},
   "outputs": [],
   "source": [
    "id_list = list(df_kaggle['Id'])\n",
    "sale_price_list = list(y_kaggle_hat)\n",
    "\n",
    "df_submission = pd.DataFrame(list(zip(id_list, sale_price_list)),\n",
    "                                 columns= ['Id', 'SalePrice'])\n",
    "\n",
    "df_submission.to_csv('../datasets/iter_2_submission.csv', index= False)"
   ]
  },
  {
   "cell_type": "code",
   "execution_count": 21,
   "metadata": {
    "scrolled": false
   },
   "outputs": [
    {
     "data": {
      "text/html": [
       "<table class=\"simpletable\">\n",
       "<caption>OLS Regression Results</caption>\n",
       "<tr>\n",
       "  <th>Dep. Variable:</th>        <td>SalePrice</td>    <th>  R-squared (uncentered):</th>      <td>   0.984</td> \n",
       "</tr>\n",
       "<tr>\n",
       "  <th>Model:</th>                   <td>OLS</td>       <th>  Adj. R-squared (uncentered):</th> <td>   0.983</td> \n",
       "</tr>\n",
       "<tr>\n",
       "  <th>Method:</th>             <td>Least Squares</td>  <th>  F-statistic:       </th>          <td>   1752.</td> \n",
       "</tr>\n",
       "<tr>\n",
       "  <th>Date:</th>             <td>Wed, 02 Oct 2019</td> <th>  Prob (F-statistic):</th>           <td>  0.00</td>  \n",
       "</tr>\n",
       "<tr>\n",
       "  <th>Time:</th>                 <td>22:59:44</td>     <th>  Log-Likelihood:    </th>          <td> -17729.</td> \n",
       "</tr>\n",
       "<tr>\n",
       "  <th>No. Observations:</th>      <td>  1535</td>      <th>  AIC:               </th>          <td>3.556e+04</td>\n",
       "</tr>\n",
       "<tr>\n",
       "  <th>Df Residuals:</th>          <td>  1483</td>      <th>  BIC:               </th>          <td>3.584e+04</td>\n",
       "</tr>\n",
       "<tr>\n",
       "  <th>Df Model:</th>              <td>    52</td>      <th>                     </th>              <td> </td>    \n",
       "</tr>\n",
       "<tr>\n",
       "  <th>Covariance Type:</th>      <td>nonrobust</td>    <th>                     </th>              <td> </td>    \n",
       "</tr>\n",
       "</table>\n",
       "<table class=\"simpletable\">\n",
       "<tr>\n",
       "           <td></td>              <th>coef</th>     <th>std err</th>      <th>t</th>      <th>P>|t|</th>  <th>[0.025</th>    <th>0.975]</th>  \n",
       "</tr>\n",
       "<tr>\n",
       "  <th>PID</th>                 <td> 1.063e-05</td> <td>  5.4e-06</td> <td>    1.967</td> <td> 0.049</td> <td>  3.2e-08</td> <td> 2.12e-05</td>\n",
       "</tr>\n",
       "<tr>\n",
       "  <th>MS_SubClass</th>         <td>  -82.5889</td> <td>   43.190</td> <td>   -1.912</td> <td> 0.056</td> <td> -167.309</td> <td>    2.131</td>\n",
       "</tr>\n",
       "<tr>\n",
       "  <th>Lot_Frontage</th>        <td>   43.5092</td> <td>   22.052</td> <td>    1.973</td> <td> 0.049</td> <td>    0.252</td> <td>   86.766</td>\n",
       "</tr>\n",
       "<tr>\n",
       "  <th>Lot_Area</th>            <td>    0.4745</td> <td>    0.119</td> <td>    3.986</td> <td> 0.000</td> <td>    0.241</td> <td>    0.708</td>\n",
       "</tr>\n",
       "<tr>\n",
       "  <th>Overall_Qual</th>        <td> 1.378e+04</td> <td>  844.126</td> <td>   16.325</td> <td> 0.000</td> <td> 1.21e+04</td> <td> 1.54e+04</td>\n",
       "</tr>\n",
       "<tr>\n",
       "  <th>Overall_Cond</th>        <td> 5814.0040</td> <td>  760.581</td> <td>    7.644</td> <td> 0.000</td> <td> 4322.075</td> <td> 7305.933</td>\n",
       "</tr>\n",
       "<tr>\n",
       "  <th>Year_Built</th>          <td>   49.0544</td> <td>   41.091</td> <td>    1.194</td> <td> 0.233</td> <td>  -31.548</td> <td>  129.657</td>\n",
       "</tr>\n",
       "<tr>\n",
       "  <th>Year_Remod/Add</th>      <td>  -80.2837</td> <td>   40.996</td> <td>   -1.958</td> <td> 0.050</td> <td> -160.700</td> <td>    0.132</td>\n",
       "</tr>\n",
       "<tr>\n",
       "  <th>Mas_Vnr_Area</th>        <td>   19.8561</td> <td>    4.679</td> <td>    4.243</td> <td> 0.000</td> <td>   10.677</td> <td>   29.035</td>\n",
       "</tr>\n",
       "<tr>\n",
       "  <th>BsmtFin_SF_1</th>        <td>   24.0609</td> <td>    2.260</td> <td>   10.648</td> <td> 0.000</td> <td>   19.628</td> <td>   28.494</td>\n",
       "</tr>\n",
       "<tr>\n",
       "  <th>Total_Bsmt_SF</th>       <td>   27.8118</td> <td>    3.745</td> <td>    7.427</td> <td> 0.000</td> <td>   20.466</td> <td>   35.158</td>\n",
       "</tr>\n",
       "<tr>\n",
       "  <th>1st_Flr_SF</th>          <td>   25.4183</td> <td>   13.524</td> <td>    1.879</td> <td> 0.060</td> <td>   -1.111</td> <td>   51.947</td>\n",
       "</tr>\n",
       "<tr>\n",
       "  <th>2nd_Flr_SF</th>          <td>   30.1468</td> <td>   13.458</td> <td>    2.240</td> <td> 0.025</td> <td>    3.747</td> <td>   56.546</td>\n",
       "</tr>\n",
       "<tr>\n",
       "  <th>Gr_Liv_Area</th>         <td>   23.8795</td> <td>   13.246</td> <td>    1.803</td> <td> 0.072</td> <td>   -2.104</td> <td>   49.863</td>\n",
       "</tr>\n",
       "<tr>\n",
       "  <th>Bsmt_Full_Bath</th>      <td> 3628.0038</td> <td> 1723.427</td> <td>    2.105</td> <td> 0.035</td> <td>  247.391</td> <td> 7008.617</td>\n",
       "</tr>\n",
       "<tr>\n",
       "  <th>Full_Bath</th>           <td> 4915.1876</td> <td> 1992.523</td> <td>    2.467</td> <td> 0.014</td> <td> 1006.725</td> <td> 8823.650</td>\n",
       "</tr>\n",
       "<tr>\n",
       "  <th>Half_Bath</th>           <td> 5816.8130</td> <td> 2014.574</td> <td>    2.887</td> <td> 0.004</td> <td> 1865.095</td> <td> 9768.531</td>\n",
       "</tr>\n",
       "<tr>\n",
       "  <th>Bedroom_AbvGr</th>       <td>-7891.1324</td> <td> 1271.023</td> <td>   -6.208</td> <td> 0.000</td> <td>-1.04e+04</td> <td>-5397.939</td>\n",
       "</tr>\n",
       "<tr>\n",
       "  <th>TotRms_AbvGrd</th>       <td> 1779.7591</td> <td>  884.102</td> <td>    2.013</td> <td> 0.044</td> <td>   45.536</td> <td> 3513.982</td>\n",
       "</tr>\n",
       "<tr>\n",
       "  <th>Fireplaces</th>          <td> 3041.3699</td> <td> 1298.475</td> <td>    2.342</td> <td> 0.019</td> <td>  494.326</td> <td> 5588.414</td>\n",
       "</tr>\n",
       "<tr>\n",
       "  <th>Garage_Yr_Blt</th>       <td>  -13.2612</td> <td>   13.041</td> <td>   -1.017</td> <td> 0.309</td> <td>  -38.843</td> <td>   12.320</td>\n",
       "</tr>\n",
       "<tr>\n",
       "  <th>Garage_Cars</th>         <td> 3616.6414</td> <td> 2260.157</td> <td>    1.600</td> <td> 0.110</td> <td> -816.802</td> <td> 8050.085</td>\n",
       "</tr>\n",
       "<tr>\n",
       "  <th>Garage_Area</th>         <td>   19.8923</td> <td>    7.803</td> <td>    2.549</td> <td> 0.011</td> <td>    4.587</td> <td>   35.198</td>\n",
       "</tr>\n",
       "<tr>\n",
       "  <th>Wood_Deck_SF</th>        <td>   15.4066</td> <td>    5.937</td> <td>    2.595</td> <td> 0.010</td> <td>    3.761</td> <td>   27.052</td>\n",
       "</tr>\n",
       "<tr>\n",
       "  <th>Open_Porch_SF</th>       <td>   18.1644</td> <td>   11.125</td> <td>    1.633</td> <td> 0.103</td> <td>   -3.658</td> <td>   39.987</td>\n",
       "</tr>\n",
       "<tr>\n",
       "  <th>Enclosed_Porch</th>      <td>  -26.2660</td> <td>   12.206</td> <td>   -2.152</td> <td> 0.032</td> <td>  -50.210</td> <td>   -2.322</td>\n",
       "</tr>\n",
       "<tr>\n",
       "  <th>Bsmt_Qual_missing</th>   <td> 2.852e+04</td> <td> 5954.379</td> <td>    4.790</td> <td> 0.000</td> <td> 1.68e+04</td> <td> 4.02e+04</td>\n",
       "</tr>\n",
       "<tr>\n",
       "  <th>Garage_Type_missing</th> <td>-1.027e+04</td> <td> 2.54e+04</td> <td>   -0.405</td> <td> 0.686</td> <td>-6.01e+04</td> <td> 3.95e+04</td>\n",
       "</tr>\n",
       "<tr>\n",
       "  <th>BrDale</th>              <td> -685.5626</td> <td> 8160.913</td> <td>   -0.084</td> <td> 0.933</td> <td>-1.67e+04</td> <td> 1.53e+04</td>\n",
       "</tr>\n",
       "<tr>\n",
       "  <th>BrkSide</th>             <td>-1.049e+04</td> <td> 3811.402</td> <td>   -2.754</td> <td> 0.006</td> <td> -1.8e+04</td> <td>-3018.653</td>\n",
       "</tr>\n",
       "<tr>\n",
       "  <th>Edwards</th>             <td>-1.094e+04</td> <td> 3079.422</td> <td>   -3.553</td> <td> 0.000</td> <td> -1.7e+04</td> <td>-4899.358</td>\n",
       "</tr>\n",
       "<tr>\n",
       "  <th>IDOTRR</th>              <td>-1.935e+04</td> <td> 4362.072</td> <td>   -4.435</td> <td> 0.000</td> <td>-2.79e+04</td> <td>-1.08e+04</td>\n",
       "</tr>\n",
       "<tr>\n",
       "  <th>MeadowV</th>             <td> 5077.5364</td> <td> 6752.339</td> <td>    0.752</td> <td> 0.452</td> <td>-8167.615</td> <td> 1.83e+04</td>\n",
       "</tr>\n",
       "<tr>\n",
       "  <th>NAmes</th>               <td>-7467.7175</td> <td> 2744.429</td> <td>   -2.721</td> <td> 0.007</td> <td>-1.29e+04</td> <td>-2084.342</td>\n",
       "</tr>\n",
       "<tr>\n",
       "  <th>NoRidge</th>             <td> 1.943e+04</td> <td> 4950.569</td> <td>    3.926</td> <td> 0.000</td> <td> 9724.034</td> <td> 2.91e+04</td>\n",
       "</tr>\n",
       "<tr>\n",
       "  <th>NridgHt</th>             <td> 4.739e+04</td> <td> 3819.437</td> <td>   12.409</td> <td> 0.000</td> <td> 3.99e+04</td> <td> 5.49e+04</td>\n",
       "</tr>\n",
       "<tr>\n",
       "  <th>OldTown</th>             <td>-1.674e+04</td> <td> 3203.333</td> <td>   -5.225</td> <td> 0.000</td> <td> -2.3e+04</td> <td>-1.05e+04</td>\n",
       "</tr>\n",
       "<tr>\n",
       "  <th>Sawyer</th>              <td>-3076.4739</td> <td> 3287.505</td> <td>   -0.936</td> <td> 0.350</td> <td>-9525.128</td> <td> 3372.180</td>\n",
       "</tr>\n",
       "<tr>\n",
       "  <th>Somerst</th>             <td> 1.752e+04</td> <td> 3302.997</td> <td>    5.304</td> <td> 0.000</td> <td>  1.1e+04</td> <td>  2.4e+04</td>\n",
       "</tr>\n",
       "<tr>\n",
       "  <th>StoneBr</th>             <td>  5.28e+04</td> <td> 5659.951</td> <td>    9.328</td> <td> 0.000</td> <td> 4.17e+04</td> <td> 6.39e+04</td>\n",
       "</tr>\n",
       "<tr>\n",
       "  <th>Timber</th>              <td> 5294.5270</td> <td> 5097.453</td> <td>    1.039</td> <td> 0.299</td> <td>-4704.459</td> <td> 1.53e+04</td>\n",
       "</tr>\n",
       "<tr>\n",
       "  <th>Veenker</th>             <td>-8897.5572</td> <td> 7794.401</td> <td>   -1.142</td> <td> 0.254</td> <td>-2.42e+04</td> <td> 6391.667</td>\n",
       "</tr>\n",
       "<tr>\n",
       "  <th>2fmCon</th>              <td>-2385.1729</td> <td> 7678.281</td> <td>   -0.311</td> <td> 0.756</td> <td>-1.74e+04</td> <td> 1.27e+04</td>\n",
       "</tr>\n",
       "<tr>\n",
       "  <th>Duplex</th>              <td> -2.17e+04</td> <td> 5132.842</td> <td>   -4.227</td> <td> 0.000</td> <td>-3.18e+04</td> <td>-1.16e+04</td>\n",
       "</tr>\n",
       "<tr>\n",
       "  <th>Twnhs</th>               <td>-1.503e+04</td> <td> 6287.996</td> <td>   -2.390</td> <td> 0.017</td> <td>-2.74e+04</td> <td>-2693.720</td>\n",
       "</tr>\n",
       "<tr>\n",
       "  <th>TwnhsE</th>              <td>-1.094e+04</td> <td> 5074.655</td> <td>   -2.157</td> <td> 0.031</td> <td>-2.09e+04</td> <td> -990.153</td>\n",
       "</tr>\n",
       "<tr>\n",
       "  <th>1.5Unf</th>              <td> 8104.4245</td> <td> 8888.197</td> <td>    0.912</td> <td> 0.362</td> <td>-9330.351</td> <td> 2.55e+04</td>\n",
       "</tr>\n",
       "<tr>\n",
       "  <th>2Story</th>              <td>-1306.8482</td> <td> 2790.345</td> <td>   -0.468</td> <td> 0.640</td> <td>-6780.292</td> <td> 4166.596</td>\n",
       "</tr>\n",
       "<tr>\n",
       "  <th>ConLD</th>               <td> 7300.2593</td> <td> 7550.070</td> <td>    0.967</td> <td> 0.334</td> <td>-7509.693</td> <td> 2.21e+04</td>\n",
       "</tr>\n",
       "<tr>\n",
       "  <th>summer</th>              <td>  498.4946</td> <td> 1374.195</td> <td>    0.363</td> <td> 0.717</td> <td>-2197.077</td> <td> 3194.066</td>\n",
       "</tr>\n",
       "<tr>\n",
       "  <th>New</th>                 <td> 3.091e+04</td> <td> 4149.966</td> <td>    7.449</td> <td> 0.000</td> <td> 2.28e+04</td> <td> 3.91e+04</td>\n",
       "</tr>\n",
       "<tr>\n",
       "  <th>WD </th>                 <td> 4973.9583</td> <td> 3158.783</td> <td>    1.575</td> <td> 0.116</td> <td>-1222.199</td> <td> 1.12e+04</td>\n",
       "</tr>\n",
       "</table>\n",
       "<table class=\"simpletable\">\n",
       "<tr>\n",
       "  <th>Omnibus:</th>       <td>264.128</td> <th>  Durbin-Watson:     </th> <td>   1.948</td>\n",
       "</tr>\n",
       "<tr>\n",
       "  <th>Prob(Omnibus):</th> <td> 0.000</td>  <th>  Jarque-Bera (JB):  </th> <td>2942.205</td>\n",
       "</tr>\n",
       "<tr>\n",
       "  <th>Skew:</th>          <td> 0.441</td>  <th>  Prob(JB):          </th> <td>    0.00</td>\n",
       "</tr>\n",
       "<tr>\n",
       "  <th>Kurtosis:</th>      <td> 9.725</td>  <th>  Cond. No.          </th> <td>2.87e+10</td>\n",
       "</tr>\n",
       "</table><br/><br/>Warnings:<br/>[1] Standard Errors assume that the covariance matrix of the errors is correctly specified.<br/>[2] The condition number is large, 2.87e+10. This might indicate that there are<br/>strong multicollinearity or other numerical problems."
      ],
      "text/plain": [
       "<class 'statsmodels.iolib.summary.Summary'>\n",
       "\"\"\"\n",
       "                                 OLS Regression Results                                \n",
       "=======================================================================================\n",
       "Dep. Variable:              SalePrice   R-squared (uncentered):                   0.984\n",
       "Model:                            OLS   Adj. R-squared (uncentered):              0.983\n",
       "Method:                 Least Squares   F-statistic:                              1752.\n",
       "Date:                Wed, 02 Oct 2019   Prob (F-statistic):                        0.00\n",
       "Time:                        22:59:44   Log-Likelihood:                         -17729.\n",
       "No. Observations:                1535   AIC:                                  3.556e+04\n",
       "Df Residuals:                    1483   BIC:                                  3.584e+04\n",
       "Df Model:                          52                                                  \n",
       "Covariance Type:            nonrobust                                                  \n",
       "=======================================================================================\n",
       "                          coef    std err          t      P>|t|      [0.025      0.975]\n",
       "---------------------------------------------------------------------------------------\n",
       "PID                  1.063e-05    5.4e-06      1.967      0.049     3.2e-08    2.12e-05\n",
       "MS_SubClass           -82.5889     43.190     -1.912      0.056    -167.309       2.131\n",
       "Lot_Frontage           43.5092     22.052      1.973      0.049       0.252      86.766\n",
       "Lot_Area                0.4745      0.119      3.986      0.000       0.241       0.708\n",
       "Overall_Qual         1.378e+04    844.126     16.325      0.000    1.21e+04    1.54e+04\n",
       "Overall_Cond         5814.0040    760.581      7.644      0.000    4322.075    7305.933\n",
       "Year_Built             49.0544     41.091      1.194      0.233     -31.548     129.657\n",
       "Year_Remod/Add        -80.2837     40.996     -1.958      0.050    -160.700       0.132\n",
       "Mas_Vnr_Area           19.8561      4.679      4.243      0.000      10.677      29.035\n",
       "BsmtFin_SF_1           24.0609      2.260     10.648      0.000      19.628      28.494\n",
       "Total_Bsmt_SF          27.8118      3.745      7.427      0.000      20.466      35.158\n",
       "1st_Flr_SF             25.4183     13.524      1.879      0.060      -1.111      51.947\n",
       "2nd_Flr_SF             30.1468     13.458      2.240      0.025       3.747      56.546\n",
       "Gr_Liv_Area            23.8795     13.246      1.803      0.072      -2.104      49.863\n",
       "Bsmt_Full_Bath       3628.0038   1723.427      2.105      0.035     247.391    7008.617\n",
       "Full_Bath            4915.1876   1992.523      2.467      0.014    1006.725    8823.650\n",
       "Half_Bath            5816.8130   2014.574      2.887      0.004    1865.095    9768.531\n",
       "Bedroom_AbvGr       -7891.1324   1271.023     -6.208      0.000   -1.04e+04   -5397.939\n",
       "TotRms_AbvGrd        1779.7591    884.102      2.013      0.044      45.536    3513.982\n",
       "Fireplaces           3041.3699   1298.475      2.342      0.019     494.326    5588.414\n",
       "Garage_Yr_Blt         -13.2612     13.041     -1.017      0.309     -38.843      12.320\n",
       "Garage_Cars          3616.6414   2260.157      1.600      0.110    -816.802    8050.085\n",
       "Garage_Area            19.8923      7.803      2.549      0.011       4.587      35.198\n",
       "Wood_Deck_SF           15.4066      5.937      2.595      0.010       3.761      27.052\n",
       "Open_Porch_SF          18.1644     11.125      1.633      0.103      -3.658      39.987\n",
       "Enclosed_Porch        -26.2660     12.206     -2.152      0.032     -50.210      -2.322\n",
       "Bsmt_Qual_missing    2.852e+04   5954.379      4.790      0.000    1.68e+04    4.02e+04\n",
       "Garage_Type_missing -1.027e+04   2.54e+04     -0.405      0.686   -6.01e+04    3.95e+04\n",
       "BrDale               -685.5626   8160.913     -0.084      0.933   -1.67e+04    1.53e+04\n",
       "BrkSide             -1.049e+04   3811.402     -2.754      0.006    -1.8e+04   -3018.653\n",
       "Edwards             -1.094e+04   3079.422     -3.553      0.000    -1.7e+04   -4899.358\n",
       "IDOTRR              -1.935e+04   4362.072     -4.435      0.000   -2.79e+04   -1.08e+04\n",
       "MeadowV              5077.5364   6752.339      0.752      0.452   -8167.615    1.83e+04\n",
       "NAmes               -7467.7175   2744.429     -2.721      0.007   -1.29e+04   -2084.342\n",
       "NoRidge              1.943e+04   4950.569      3.926      0.000    9724.034    2.91e+04\n",
       "NridgHt              4.739e+04   3819.437     12.409      0.000    3.99e+04    5.49e+04\n",
       "OldTown             -1.674e+04   3203.333     -5.225      0.000    -2.3e+04   -1.05e+04\n",
       "Sawyer              -3076.4739   3287.505     -0.936      0.350   -9525.128    3372.180\n",
       "Somerst              1.752e+04   3302.997      5.304      0.000     1.1e+04     2.4e+04\n",
       "StoneBr               5.28e+04   5659.951      9.328      0.000    4.17e+04    6.39e+04\n",
       "Timber               5294.5270   5097.453      1.039      0.299   -4704.459    1.53e+04\n",
       "Veenker             -8897.5572   7794.401     -1.142      0.254   -2.42e+04    6391.667\n",
       "2fmCon              -2385.1729   7678.281     -0.311      0.756   -1.74e+04    1.27e+04\n",
       "Duplex               -2.17e+04   5132.842     -4.227      0.000   -3.18e+04   -1.16e+04\n",
       "Twnhs               -1.503e+04   6287.996     -2.390      0.017   -2.74e+04   -2693.720\n",
       "TwnhsE              -1.094e+04   5074.655     -2.157      0.031   -2.09e+04    -990.153\n",
       "1.5Unf               8104.4245   8888.197      0.912      0.362   -9330.351    2.55e+04\n",
       "2Story              -1306.8482   2790.345     -0.468      0.640   -6780.292    4166.596\n",
       "ConLD                7300.2593   7550.070      0.967      0.334   -7509.693    2.21e+04\n",
       "summer                498.4946   1374.195      0.363      0.717   -2197.077    3194.066\n",
       "New                  3.091e+04   4149.966      7.449      0.000    2.28e+04    3.91e+04\n",
       "WD                   4973.9583   3158.783      1.575      0.116   -1222.199    1.12e+04\n",
       "==============================================================================\n",
       "Omnibus:                      264.128   Durbin-Watson:                   1.948\n",
       "Prob(Omnibus):                  0.000   Jarque-Bera (JB):             2942.205\n",
       "Skew:                           0.441   Prob(JB):                         0.00\n",
       "Kurtosis:                       9.725   Cond. No.                     2.87e+10\n",
       "==============================================================================\n",
       "\n",
       "Warnings:\n",
       "[1] Standard Errors assume that the covariance matrix of the errors is correctly specified.\n",
       "[2] The condition number is large, 2.87e+10. This might indicate that there are\n",
       "strong multicollinearity or other numerical problems.\n",
       "\"\"\""
      ]
     },
     "execution_count": 21,
     "metadata": {},
     "output_type": "execute_result"
    }
   ],
   "source": [
    "model = sm.OLS(y_train, X_train).fit()\n",
    "model.summary()"
   ]
  },
  {
   "cell_type": "code",
   "execution_count": 22,
   "metadata": {},
   "outputs": [],
   "source": [
    "iter_2_features = ['MS_SubClass', 'Lot_Frontage', 'Lot_Area', 'Overall_Qual',\n",
    "                        'Overall_Cond', 'BsmtFin_SF_1', 'Total_Bsmt_SF', 'Bsmt_Full_Bath', \n",
    "                        'Bedroom_AbvGr', 'TotRms_AbvGrd', 'Fireplaces', 'Garage_Area', 'PID',\n",
    "                        'Mas_Vnr_Area', '1st_Flr_SF', '2nd_Flr_SF', 'Full_Bath', 'Half_Bath', 'Kitchen_AbvGr', \n",
    "                        'Wood_Deck_SF', 'Screen_Porch', 'Bsmt_Qual_missing', 'BrkSide', 'Edwards', 'IDOTRR', \n",
    "                        'NAmes', 'NoRidge', 'NridgHt', 'OldTown', 'Somerst', 'StoneBr', '2fmCon', 'New']"
   ]
  },
  {
   "cell_type": "code",
   "execution_count": 23,
   "metadata": {},
   "outputs": [],
   "source": [
    "df = df_clean[iter_2_features]"
   ]
  },
  {
   "cell_type": "code",
   "execution_count": 24,
   "metadata": {},
   "outputs": [],
   "source": [
    "X = df\n",
    "y = df_clean['SalePrice']\n",
    "\n",
    "X_train, X_test, y_train, y_test = train_test_split(X, y, random_state= 42)"
   ]
  },
  {
   "cell_type": "code",
   "execution_count": 25,
   "metadata": {},
   "outputs": [
    {
     "data": {
      "text/plain": [
       "0.8986578387026355"
      ]
     },
     "execution_count": 25,
     "metadata": {},
     "output_type": "execute_result"
    }
   ],
   "source": [
    "lr = LinearRegression()\n",
    "lr.fit(X_train, y_train)\n",
    "\n",
    "lr.score(X_train, y_train)"
   ]
  },
  {
   "cell_type": "code",
   "execution_count": 26,
   "metadata": {},
   "outputs": [
    {
     "data": {
      "text/plain": [
       "25130.316175506294"
      ]
     },
     "execution_count": 26,
     "metadata": {},
     "output_type": "execute_result"
    }
   ],
   "source": [
    "y_train_hat = lr.predict(X_train)\n",
    "\n",
    "RMSE = np.sqrt(mean_squared_error(y_train, y_train_hat))\n",
    "RMSE"
   ]
  },
  {
   "cell_type": "code",
   "execution_count": 27,
   "metadata": {},
   "outputs": [
    {
     "data": {
      "text/plain": [
       "0.8798573185558337"
      ]
     },
     "execution_count": 27,
     "metadata": {},
     "output_type": "execute_result"
    }
   ],
   "source": [
    "lr.score(X_test, y_test)"
   ]
  },
  {
   "cell_type": "code",
   "execution_count": 28,
   "metadata": {},
   "outputs": [
    {
     "data": {
      "text/plain": [
       "0.8889988263874589"
      ]
     },
     "execution_count": 28,
     "metadata": {},
     "output_type": "execute_result"
    }
   ],
   "source": [
    "cross_val_score(lr, X, y, cv= 5).mean()"
   ]
  },
  {
   "cell_type": "code",
   "execution_count": 29,
   "metadata": {},
   "outputs": [],
   "source": [
    "# after dropping 25 features from the original iteration 2 due to OLS, R squared dropped 0.007 based on the Cross Varimp"
   ]
  },
  {
   "cell_type": "code",
   "execution_count": 30,
   "metadata": {},
   "outputs": [],
   "source": [
    "df.to_csv('../datasets/iter_2_df.csv')"
   ]
  }
 ],
 "metadata": {
  "kernelspec": {
   "display_name": "Python 3",
   "language": "python",
   "name": "python3"
  },
  "language_info": {
   "codemirror_mode": {
    "name": "ipython",
    "version": 3
   },
   "file_extension": ".py",
   "mimetype": "text/x-python",
   "name": "python",
   "nbconvert_exporter": "python",
   "pygments_lexer": "ipython3",
   "version": "3.7.3"
  }
 },
 "nbformat": 4,
 "nbformat_minor": 2
}
